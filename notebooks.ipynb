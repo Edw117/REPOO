{
 "cells": [
  {
   "cell_type": "markdown",
   "id": "bb2d925d",
   "metadata": {},
   "source": [
    "# Conversión de archivo a formato ipynb\n",
    "Este notebook convierte un archivo de script (por ejemplo, .py) a un archivo Jupyter Notebook (.ipynb) de manera programática."
   ]
  },
  {
   "cell_type": "markdown",
   "id": "5f74ebc3",
   "metadata": {},
   "source": [
    "## 1. Importar bibliotecas necesarias\n",
    "Importamos las bibliotecas requeridas para la conversión de archivos a formato ipynb."
   ]
  },
  {
   "cell_type": "code",
   "execution_count": null,
   "id": "513f35bf",
   "metadata": {},
   "outputs": [],
   "source": [
    "import nbformat\n",
    "import os"
   ]
  },
  {
   "cell_type": "markdown",
   "id": "5107d153",
   "metadata": {},
   "source": [
    "## 2. Leer el archivo fuente\n",
    "Leemos el contenido del archivo que queremos convertir a notebook. En este ejemplo, se asume que el archivo fuente es `notebooks` (un script de Python)."
   ]
  },
  {
   "cell_type": "code",
   "execution_count": null,
   "id": "ad2d387e",
   "metadata": {},
   "outputs": [],
   "source": [
    "# Ruta del archivo fuente\n",
    "source_path = 'notebooks'\n",
    "\n",
    "with open(source_path, 'r', encoding='utf-8') as f:\n",
    "    source_content = f.read()\n",
    "\n",
    "print(source_content[:500])  # Muestra los primeros 500 caracteres"
   ]
  },
  {
   "cell_type": "markdown",
   "id": "8124960b",
   "metadata": {},
   "source": [
    "## 3. Convertir el archivo a formato ipynb\n",
    "Convertimos el contenido leído en celdas compatibles con Jupyter Notebook utilizando nbformat."
   ]
  },
  {
   "cell_type": "code",
   "execution_count": null,
   "id": "96bb22da",
   "metadata": {},
   "outputs": [],
   "source": [
    "# Dividir el contenido en celdas por bloques vacíos (puedes ajustar el criterio)\n",
    "code_blocks = [block.strip() for block in source_content.split('\\n\\n') if block.strip()]\n",
    "\n",
    "# Crear un nuevo notebook\n",
    "nb = nbformat.v4.new_notebook()\n",
    "nb.cells = [nbformat.v4.new_code_cell(block) for block in code_blocks]\n",
    "\n",
    "print(f'Se crearán {len(nb.cells)} celdas de código.')"
   ]
  },
  {
   "cell_type": "markdown",
   "id": "a7e0bd47",
   "metadata": {},
   "source": [
    "## 4. Guardar el archivo convertido\n",
    "Guardamos el nuevo archivo en formato .ipynb en el sistema de archivos."
   ]
  },
  {
   "cell_type": "code",
   "execution_count": null,
   "id": "74cf9503",
   "metadata": {},
   "outputs": [],
   "source": [
    "# Guardar el notebook generado\n",
    "output_path = 'notebooks_convertido.ipynb'\n",
    "with open(output_path, 'w', encoding='utf-8') as f:\n",
    "    nbformat.write(nb, f)\n",
    "print(f'Notebook guardado en: {output_path})"
   ]
  }
 ],
 "metadata": {
  "language_info": {
   "name": "python"
  }
 },
 "nbformat": 4,
 "nbformat_minor": 5
}
